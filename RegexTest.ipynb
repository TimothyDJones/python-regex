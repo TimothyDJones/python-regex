{
 "cells": [
  {
   "cell_type": "code",
   "execution_count": 9,
   "metadata": {},
   "outputs": [],
   "source": [
    "import re\n",
    "import time"
   ]
  },
  {
   "cell_type": "code",
   "execution_count": 10,
   "metadata": {},
   "outputs": [
    {
     "name": "stdout",
     "output_type": "stream",
     "text": [
      "hello current time is: Thu Jun 28 13:17:12 2018\n"
     ]
    }
   ],
   "source": [
    "print('hello current time is: {0}'.format(time.ctime()))"
   ]
  },
  {
   "cell_type": "code",
   "execution_count": 15,
   "metadata": {},
   "outputs": [],
   "source": [
    "def regex_test1():\n",
    "    pattern = r'^\\d+$'\n",
    "    positiveTest = ['12345', '00123', '8675309']\n",
    "    negativeTest = ['867-5309', 'Testing 1, 2, 3...', ' 888 ', '333 ', '444\\t555']\n",
    "    \n",
    "    print(\"Regex pattern: {0}\".format(pattern))\n",
    "\n",
    "    for text in positiveTest:\n",
    "        match = re.search(pattern, text)\n",
    "        if match:\n",
    "            print(\"*** Match. Text: {0}, Index: {1}, Length: {2}\".format(\n",
    "                text, match.start(), len(match.group(0))))\n",
    "        else:\n",
    "            print(\"*** No match. Text: {0}\".format(text))\n",
    "            raise ValueError(\"Positive Test Failed. Expected match for '{0}', but none found!\".format(text))\n",
    "\n",
    "    for text in negativeTest:\n",
    "        match = re.search(pattern, text)\n",
    "        if match:\n",
    "            print(\"*** Match. Text: {0}, Index: {1}, Length: {2}\".format(\n",
    "                text, match.start(), len(match.group(0))))\n",
    "            raise ValueError(\"Negative Test Failed. No match expected for '{0}', but match found!\".format(text)) \n",
    "        else:\n",
    "            print(\"*** No match. Text: {0}\".format(text))"
   ]
  },
  {
   "cell_type": "code",
   "execution_count": 16,
   "metadata": {},
   "outputs": [
    {
     "name": "stdout",
     "output_type": "stream",
     "text": [
      "Regex pattern: ^\\d+$\n",
      "*** Match. Text: 12345, Index: 0, Length: 5\n",
      "*** Match. Text: 00123, Index: 0, Length: 5\n",
      "*** Match. Text: 8675309, Index: 0, Length: 7\n",
      "*** No match. Text: 867-5309\n",
      "*** No match. Text: Testing 1, 2, 3...\n",
      "*** No match. Text:  888 \n",
      "*** No match. Text: 333 \n",
      "*** No match. Text: 444\t555\n"
     ]
    }
   ],
   "source": [
    "regex_test1()"
   ]
  },
  {
   "cell_type": "code",
   "execution_count": 8,
   "metadata": {},
   "outputs": [],
   "source": [
    "def test_print():\n",
    "    print('This is a test!')"
   ]
  },
  {
   "cell_type": "code",
   "execution_count": 13,
   "metadata": {},
   "outputs": [
    {
     "name": "stdout",
     "output_type": "stream",
     "text": [
      "This is a test!\n"
     ]
    }
   ],
   "source": [
    "test_print()"
   ]
  },
  {
   "cell_type": "code",
   "execution_count": null,
   "metadata": {},
   "outputs": [],
   "source": [
    "def regex_group_by_name():\n",
    "    pattern = r\"(?P<year>\\d{4})(?P<month>\\d{2})(?P<day>\\d{2})(?P<hour>\\d{2})?\"\n",
    "    text = \"Time Stamp = 2018062814\"\n",
    "    \n",
    "    print(\"Pattern: \".format(pattern))\n",
    "    print(\"Text:\".format(text))"
   ]
  }
 ],
 "metadata": {
  "kernelspec": {
   "display_name": "Python 3",
   "language": "python",
   "name": "python3"
  },
  "language_info": {
   "codemirror_mode": {
    "name": "ipython",
    "version": 3
   },
   "file_extension": ".py",
   "mimetype": "text/x-python",
   "name": "python",
   "nbconvert_exporter": "python",
   "pygments_lexer": "ipython3",
   "version": "3.6.5"
  }
 },
 "nbformat": 4,
 "nbformat_minor": 2
}
